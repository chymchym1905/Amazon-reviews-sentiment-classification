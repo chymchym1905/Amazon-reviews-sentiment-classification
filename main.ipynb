{
 "cells": [
  {
   "cell_type": "code",
   "execution_count": 2,
   "metadata": {},
   "outputs": [],
   "source": [
    "import pandas as pd\n",
    "# import gzip\n",
    "import numpy as np\n",
    "# import json\n",
    "import matplotlib.pyplot as plt\n",
    "import seaborn as sns"
   ]
  },
  {
   "cell_type": "code",
   "execution_count": 26,
   "metadata": {},
   "outputs": [],
   "source": [
    "df = pd.read_csv('Video_Games.csv')"
   ]
  },
  {
   "cell_type": "code",
   "execution_count": 27,
   "metadata": {},
   "outputs": [
    {
     "name": "stdout",
     "output_type": "stream",
     "text": [
      "<class 'pandas.core.frame.DataFrame'>\n",
      "RangeIndex: 497419 entries, 0 to 497418\n",
      "Data columns (total 14 columns):\n",
      " #   Column           Non-Null Count   Dtype  \n",
      "---  ------           --------------   -----  \n",
      " 0   Unnamed: 0       497419 non-null  int64  \n",
      " 1   overall          497419 non-null  float64\n",
      " 2   verified         497419 non-null  bool   \n",
      " 3   reviewTime       497419 non-null  object \n",
      " 4   reviewerID       497419 non-null  object \n",
      " 5   asin             497419 non-null  object \n",
      " 6   reviewerName     497209 non-null  object \n",
      " 7   reviewText       493758 non-null  object \n",
      " 8   summary          497305 non-null  object \n",
      " 9   unixReviewTime   497419 non-null  int64  \n",
      " 10  vote             107784 non-null  object \n",
      " 11  style            289123 non-null  object \n",
      " 12  image            3600 non-null    object \n",
      " 13  Positive Rating  497419 non-null  int64  \n",
      "dtypes: bool(1), float64(1), int64(3), object(9)\n",
      "memory usage: 49.8+ MB\n"
     ]
    }
   ],
   "source": [
    "df.info()"
   ]
  },
  {
   "cell_type": "markdown",
   "metadata": {},
   "source": [
    "# Data preprocessing\n",
    "1. Dropping empty rows in 2 column contain features"
   ]
  },
  {
   "cell_type": "code",
   "execution_count": 28,
   "metadata": {},
   "outputs": [
    {
     "data": {
      "text/html": [
       "<div>\n",
       "<style scoped>\n",
       "    .dataframe tbody tr th:only-of-type {\n",
       "        vertical-align: middle;\n",
       "    }\n",
       "\n",
       "    .dataframe tbody tr th {\n",
       "        vertical-align: top;\n",
       "    }\n",
       "\n",
       "    .dataframe thead th {\n",
       "        text-align: right;\n",
       "    }\n",
       "</style>\n",
       "<table border=\"1\" class=\"dataframe\">\n",
       "  <thead>\n",
       "    <tr style=\"text-align: right;\">\n",
       "      <th></th>\n",
       "      <th>Unnamed: 0</th>\n",
       "      <th>overall</th>\n",
       "      <th>verified</th>\n",
       "      <th>reviewTime</th>\n",
       "      <th>reviewerID</th>\n",
       "      <th>asin</th>\n",
       "      <th>reviewerName</th>\n",
       "      <th>reviewText</th>\n",
       "      <th>summary</th>\n",
       "      <th>unixReviewTime</th>\n",
       "      <th>vote</th>\n",
       "      <th>style</th>\n",
       "      <th>image</th>\n",
       "      <th>Positive Rating</th>\n",
       "    </tr>\n",
       "  </thead>\n",
       "  <tbody>\n",
       "    <tr>\n",
       "      <th>0</th>\n",
       "      <td>331389</td>\n",
       "      <td>5.0</td>\n",
       "      <td>True</td>\n",
       "      <td>05 25, 2015</td>\n",
       "      <td>A1AEQBAT5NEP6T</td>\n",
       "      <td>B00FUC6T0S</td>\n",
       "      <td>NastyPoet</td>\n",
       "      <td>mix red dead redemption oblivion great graphic...</td>\n",
       "      <td>worth it</td>\n",
       "      <td>1432512000</td>\n",
       "      <td>NaN</td>\n",
       "      <td>NaN</td>\n",
       "      <td>NaN</td>\n",
       "      <td>1</td>\n",
       "    </tr>\n",
       "    <tr>\n",
       "      <th>1</th>\n",
       "      <td>491061</td>\n",
       "      <td>5.0</td>\n",
       "      <td>True</td>\n",
       "      <td>06 6, 2017</td>\n",
       "      <td>A2NC6HBK3NM1GC</td>\n",
       "      <td>B00K5K4JQG</td>\n",
       "      <td>Oiharau</td>\n",
       "      <td>fun</td>\n",
       "      <td>Five Stars</td>\n",
       "      <td>1496707200</td>\n",
       "      <td>NaN</td>\n",
       "      <td>{'Edition:': ' Standard'}</td>\n",
       "      <td>NaN</td>\n",
       "      <td>1</td>\n",
       "    </tr>\n",
       "    <tr>\n",
       "      <th>2</th>\n",
       "      <td>377211</td>\n",
       "      <td>5.0</td>\n",
       "      <td>True</td>\n",
       "      <td>09 1, 2015</td>\n",
       "      <td>A2HZ44XXLCE9OM</td>\n",
       "      <td>B00N4ABT1C</td>\n",
       "      <td>Steven Pearce</td>\n",
       "      <td>like amiibos honest first thought waste time m...</td>\n",
       "      <td>Don't knock it until you try it</td>\n",
       "      <td>1441065600</td>\n",
       "      <td>NaN</td>\n",
       "      <td>{'Color:': ' Link', 'Edition:': ' USA'}</td>\n",
       "      <td>NaN</td>\n",
       "      <td>1</td>\n",
       "    </tr>\n",
       "    <tr>\n",
       "      <th>3</th>\n",
       "      <td>398491</td>\n",
       "      <td>4.0</td>\n",
       "      <td>True</td>\n",
       "      <td>12 29, 2015</td>\n",
       "      <td>AB5201IGTB1FX</td>\n",
       "      <td>B00WU6H78U</td>\n",
       "      <td>Kiko</td>\n",
       "      <td>code realize otome visual novel game takes pla...</td>\n",
       "      <td>Fun and cute game for otome and visual novel f...</td>\n",
       "      <td>1451347200</td>\n",
       "      <td>3</td>\n",
       "      <td>{'Format:': ' Video Game'}</td>\n",
       "      <td>NaN</td>\n",
       "      <td>0</td>\n",
       "    </tr>\n",
       "    <tr>\n",
       "      <th>4</th>\n",
       "      <td>135809</td>\n",
       "      <td>3.0</td>\n",
       "      <td>False</td>\n",
       "      <td>09 4, 2009</td>\n",
       "      <td>A12EG8H75DEYNP</td>\n",
       "      <td>B00163ROMW</td>\n",
       "      <td>Blitz Patel</td>\n",
       "      <td>really liked concept rpg sonic game like game ...</td>\n",
       "      <td>A decent game</td>\n",
       "      <td>1252022400</td>\n",
       "      <td>NaN</td>\n",
       "      <td>NaN</td>\n",
       "      <td>NaN</td>\n",
       "      <td>0</td>\n",
       "    </tr>\n",
       "  </tbody>\n",
       "</table>\n",
       "</div>"
      ],
      "text/plain": [
       "   Unnamed: 0  overall  verified   reviewTime      reviewerID        asin  \\\n",
       "0      331389      5.0      True  05 25, 2015  A1AEQBAT5NEP6T  B00FUC6T0S   \n",
       "1      491061      5.0      True   06 6, 2017  A2NC6HBK3NM1GC  B00K5K4JQG   \n",
       "2      377211      5.0      True   09 1, 2015  A2HZ44XXLCE9OM  B00N4ABT1C   \n",
       "3      398491      4.0      True  12 29, 2015   AB5201IGTB1FX  B00WU6H78U   \n",
       "4      135809      3.0     False   09 4, 2009  A12EG8H75DEYNP  B00163ROMW   \n",
       "\n",
       "    reviewerName                                         reviewText  \\\n",
       "0      NastyPoet  mix red dead redemption oblivion great graphic...   \n",
       "1        Oiharau                                                fun   \n",
       "2  Steven Pearce  like amiibos honest first thought waste time m...   \n",
       "3           Kiko  code realize otome visual novel game takes pla...   \n",
       "4    Blitz Patel  really liked concept rpg sonic game like game ...   \n",
       "\n",
       "                                             summary  unixReviewTime vote  \\\n",
       "0                                           worth it      1432512000  NaN   \n",
       "1                                         Five Stars      1496707200  NaN   \n",
       "2                    Don't knock it until you try it      1441065600  NaN   \n",
       "3  Fun and cute game for otome and visual novel f...      1451347200    3   \n",
       "4                                      A decent game      1252022400  NaN   \n",
       "\n",
       "                                     style image  Positive Rating  \n",
       "0                                      NaN   NaN                1  \n",
       "1                {'Edition:': ' Standard'}   NaN                1  \n",
       "2  {'Color:': ' Link', 'Edition:': ' USA'}   NaN                1  \n",
       "3               {'Format:': ' Video Game'}   NaN                0  \n",
       "4                                      NaN   NaN                0  "
      ]
     },
     "execution_count": 28,
     "metadata": {},
     "output_type": "execute_result"
    }
   ],
   "source": [
    "ratingonly = df.shape\n",
    "df = df.dropna(axis='index' ,subset=['overall', 'reviewText'])\n",
    "df.head()"
   ]
  },
  {
   "cell_type": "markdown",
   "metadata": {},
   "source": [
    "2. Current data distribution"
   ]
  },
  {
   "cell_type": "code",
   "execution_count": 29,
   "metadata": {},
   "outputs": [
    {
     "data": {
      "image/png": "[encoded data removed]",
      "text/plain": [
       "<Figure size 640x480 with 1 Axes>"
      ]
     },
     "metadata": {},
     "output_type": "display_data"
    }
   ],
   "source": [
    "ax=sns.countplot(x='overall', data=df)\n",
    "ax.bar_label(ax.containers[0])\n",
    "plt.grid(visible=True,axis='y',alpha=0.5)\n",
    "plt.show()"
   ]
  },
  {
   "cell_type": "code",
   "execution_count": null,
   "metadata": {},
   "outputs": [],
   "source": [
    "\"\"\"Define a new column 'Positive Rating', which values containe 0 and 1 for positive and negative reviews\"\"\"\n",
    "rating_threshold = 4 #review is postive if rating is >=4\n",
    "df['Positive Rating'] = df['overall'].apply(lambda x: 1 if x>=rating_threshold else 0)\n",
    "df['Positive Rating'].head(10)"
   ]
  },
  {
   "cell_type": "code",
   "execution_count": null,
   "metadata": {},
   "outputs": [],
   "source": [
    "from nltk.corpus import stopwords\n",
    "import re\n",
    "from nltk.tokenize import word_tokenize, RegexpTokenizer"
   ]
  },
  {
   "cell_type": "markdown",
   "metadata": {},
   "source": [
    "Function to normalize and clean data"
   ]
  },
  {
   "cell_type": "code",
   "execution_count": null,
   "metadata": {},
   "outputs": [],
   "source": [
    "def clean_text(text):\n",
    "    # lower text\n",
    "    text = text.lower()\n",
    "    # remove hyperlinks\n",
    "    text = re.compile(r'^https?://', re.IGNORECASE).sub(r'', text)\n",
    "    # remove non-letters\n",
    "    text = re.sub(\"[^a-zA-Z]\", \" \", text)\n",
    "    text = word_tokenize(text)\n",
    "    # remove stopwords\n",
    "    stops = set(stopwords.words(\"english\"))\n",
    "    text = [w for w in text if not w in stops]\n",
    "    text = \" \".join(text)\n",
    "    # remove punctuation\n",
    "    text = RegexpTokenizer(r'\\w+').tokenize(text)\n",
    "    text = \" \".join(text)\n",
    "    # remove words less than 3 letters\n",
    "    text = re.sub(r'\\b\\w{1,2}\\b', '', text)\n",
    "    return text  "
   ]
  },
  {
   "cell_type": "markdown",
   "metadata": {},
   "source": [
    "Resampling data to increase number of negative reviews records and at the same time reduce data for faster training"
   ]
  },
  {
   "cell_type": "code",
   "execution_count": 33,
   "metadata": {},
   "outputs": [
    {
     "name": "stdout",
     "output_type": "stream",
     "text": [
      "(345238, 15)\n"
     ]
    },
    {
     "data": {
      "text/plain": [
       "overall\n",
       "3.0    123992\n",
       "1.0     78806\n",
       "2.0     61778\n",
       "5.0     61181\n",
       "4.0     19481\n",
       "Name: count, dtype: int64"
      ]
     },
     "execution_count": 33,
     "metadata": {},
     "output_type": "execute_result"
    }
   ],
   "source": [
    "from sklearn.utils import resample\n",
    "\n",
    "majority = df[df['Positive Rating']==1]\n",
    "minority = df[df['Positive Rating']==0]\n",
    "minority_upsampled = resample(minority, replace=True, n_samples=int(len(minority)*1.6), random_state=87)\n",
    "majority_downsampled =  resample(majority, replace=True, n_samples=int(len(majority)/2.2), random_state=100)\n",
    "resampled_df = pd.concat([majority_downsampled, minority_upsampled])\n",
    "\n",
    "print(resampled_df.shape)\n",
    "resampled_df['overall'].value_counts()\n",
    "# resampled_df.to_csv('Video_Games_Resampled.csv')"
   ]
  },
  {
   "cell_type": "code",
   "execution_count": 54,
   "metadata": {},
   "outputs": [
    {
     "data": {
      "text/plain": [
       "(342818, 15)"
      ]
     },
     "execution_count": 54,
     "metadata": {},
     "output_type": "execute_result"
    }
   ],
   "source": [
    "df=pd.read_csv('Video_Games_Resampled.csv')\n",
    "df.shape"
   ]
  },
  {
   "cell_type": "code",
   "execution_count": 22,
   "metadata": {},
   "outputs": [
    {
     "data": {
      "image/png": "[encoded data removed]",
      "text/plain": [
       "<Figure size 640x480 with 1 Axes>"
      ]
     },
     "metadata": {},
     "output_type": "display_data"
    }
   ],
   "source": [
    "ax=sns.countplot(x='overall', data=df)\n",
    "ax.bar_label(ax.containers[0])\n",
    "plt.grid(visible=True,axis='y',alpha=0.5)\n",
    "plt.title(\"Resampled data\")\n",
    "plt.show()"
   ]
  },
  {
   "cell_type": "markdown",
   "metadata": {},
   "source": [
    "Split data into train and test set. `train_test_split` return a tuple of pd Series object where x contain review data and y contain label data"
   ]
  },
  {
   "cell_type": "code",
   "execution_count": 55,
   "metadata": {},
   "outputs": [
    {
     "name": "stdout",
     "output_type": "stream",
     "text": [
      "263969\n",
      "78849\n"
     ]
    }
   ],
   "source": [
    "from sklearn.model_selection import train_test_split\n",
    "\n",
    "trainx, testx, trainy, testy = train_test_split(df['reviewText'], df['Positive Rating'], test_size=0.23, random_state=42)\n",
    "print(len(trainx))\n",
    "print(len(testx))\n",
    "train = pd.concat([trainx, trainy], axis =1)\n",
    "test = pd.concat([testx, testy], axis=1)\n",
    "# train.to_csv('train_data.csv', index=True)\n",
    "# test.to_csv('test_data.csv',index=True)"
   ]
  },
  {
   "cell_type": "code",
   "execution_count": 22,
   "metadata": {},
   "outputs": [],
   "source": [
    "import torch.nn as nn\n",
    "import torch.optim as optim\n",
    "from torch.utils.data import DataLoader, Dataset\n",
    "import torch\n",
    "from torch.nn.utils.rnn import pad_sequence, pack_padded_sequence, pad_packed_sequence\n",
    "# from sklearn.feature_extraction.text import TfidfVectorizer\n",
    "# import torch.nn.functional as F\n",
    "import time\n",
    "from tqdm import tqdm"
   ]
  },
  {
   "cell_type": "markdown",
   "metadata": {},
   "source": [
    "Ultility functions used to tokenize sentences\n",
    "\n",
    "input = \"I got an ice cream\"\n",
    "\n",
    "tokenize_output = [\"I\", \"got\", \"an\", \"ice\", \"cream\"]"
   ]
  },
  {
   "cell_type": "code",
   "execution_count": 10,
   "metadata": {},
   "outputs": [],
   "source": [
    "import spacy\n",
    "from torchtext.vocab import build_vocab_from_iterator\n",
    "import torchtext.transforms as T\n",
    "# spacy.cli.download(\"en_core_web_sm\")##newline\n",
    "eng = spacy.load(\"en_core_web_sm\")\n",
    "from torchtext.data.utils import get_tokenizer\n",
    "tokenizer = get_tokenizer(\"basic_english\")\n",
    "def engTokenize(text):\n",
    "    \"\"\"\n",
    "    Tokenize an English text and return a list of tokens\n",
    "    \"\"\"\n",
    "    return [token.text for token in eng.tokenizer(text)]\n",
    "\n",
    "def tokenize(data):\n",
    "    for x in data:\n",
    "        yield engTokenize(x)"
   ]
  },
  {
   "cell_type": "markdown",
   "metadata": {},
   "source": [
    "Build vocabulary from the dataset. Basically tokenizing all the unique words from the whole data for later put into vectorizing"
   ]
  },
  {
   "cell_type": "code",
   "execution_count": null,
   "metadata": {},
   "outputs": [],
   "source": [
    "vocab_train = build_vocab_from_iterator(\n",
    "    tokenize(trainx),\n",
    "    min_freq=2,\n",
    "    specials= ['<pad>', '<sos>', '<eos>', '<unk>'],\n",
    "    special_first=True\n",
    ")\n",
    "vocab_train.set_default_index(vocab_train['<unk>'])\n",
    "vocab_test = build_vocab_from_iterator(\n",
    "    tokenize(testx),\n",
    "    min_freq=2,\n",
    "    specials= ['<pad>', '<sos>', '<eos>', '<unk>'],\n",
    "    special_first=True\n",
    ")\n",
    "vocab_test.set_default_index(vocab_test['<unk>'])\n"
   ]
  },
  {
   "cell_type": "markdown",
   "metadata": {},
   "source": [
    "Building vocab take a long time so I pickle the variable as files for faster load later"
   ]
  },
  {
   "cell_type": "code",
   "execution_count": 7,
   "metadata": {},
   "outputs": [
    {
     "name": "stdout",
     "output_type": "stream",
     "text": [
      "Load vocab train\n",
      "Load vocab test\n",
      "['<pad>', '<sos>', '<eos>', '<unk>', 'game', ' ', 'like', 'one', 'games', 'get', 'play', 'good', 'really', 'time', 'great', 'fun', 'would', 'much', 'even', 'first', 'also', 'well', 'graphics', 'story', 'new', 'playing', 'way', 'better', 'still', 'make', 'use', 'played', 'many', 'could', 'lot', 'want', 'back', 'little', 'pretty', 'buy', 'gameplay', 'bad', 'people', 'best', 'got']\n"
     ]
    }
   ],
   "source": [
    "import pickle\n",
    "import os\n",
    "\n",
    "if os.path.exists('vocab_train.pkl'):\n",
    "    print('Load vocab train')\n",
    "    with open('vocab_train.pkl', 'rb') as vocab_train_file:\n",
    "        vocab_train = pickle.load(vocab_train_file)\n",
    "# else:\n",
    "#     # Save the trained vocab_train\n",
    "#     print('Save vocab train')\n",
    "#     with open('vocab_train.pkl', 'wb') as vocab_train_file:\n",
    "#         pickle.dump(vocab_train, vocab_train_file)\n",
    "\n",
    "if os.path.exists('vocab_test.pkl'):\n",
    "    print('Load vocab test')\n",
    "    # Load vocab_test from the pickle file\n",
    "    with open('vocab_test.pkl', 'rb') as vocab_test_file:\n",
    "        vocab_test = pickle.load(vocab_test_file)\n",
    "# else:\n",
    "#     print('Save vocab test')\n",
    "#     # Save the trained vocab_test\n",
    "#     with open('vocab_test.pkl', 'wb') as vocab_test_file:\n",
    "#         pickle.dump(vocab_test, vocab_test_file)\n",
    "\n",
    "\n",
    "print(vocab_train.get_itos()[:45])"
   ]
  },
  {
   "cell_type": "code",
   "execution_count": 24,
   "metadata": {},
   "outputs": [
    {
     "name": "stdout",
     "output_type": "stream",
     "text": [
      "77587\n"
     ]
    }
   ],
   "source": [
    "vocabsize = len(vocab_train)\n",
    "print(vocabsize)"
   ]
  },
  {
   "cell_type": "code",
   "execution_count": 25,
   "metadata": {},
   "outputs": [],
   "source": [
    "# Define the dimensions\n",
    "input_dim = vocabsize # The dimension of your input data (e.g., vocabulary size)\n",
    "hidden_dim = 256  # Size of the hidden layer\n",
    "embedding_dim =  128\n",
    "output_dim = 1  # Two classes: positive and negative\n",
    "learning_rate = 0.001\n",
    "epochs = 100\n",
    "batch_size = 128"
   ]
  },
  {
   "cell_type": "markdown",
   "metadata": {},
   "source": [
    "Use device GPU for training"
   ]
  },
  {
   "cell_type": "code",
   "execution_count": 26,
   "metadata": {},
   "outputs": [
    {
     "name": "stdout",
     "output_type": "stream",
     "text": [
      "GPU available. Using GPU.\n",
      "cuda\n"
     ]
    }
   ],
   "source": [
    "if torch.cuda.is_available():\n",
    "    device = torch.device(\"cuda\")\n",
    "    print(\"GPU available. Using GPU.\")\n",
    "else:\n",
    "    device = torch.device(\"cpu\")\n",
    "    print(\"GPU not available. Using CPU.\")\n",
    "print(device)"
   ]
  },
  {
   "cell_type": "markdown",
   "metadata": {},
   "source": [
    "The LSTM model, with the following structure:\n",
    "\n",
    "- Word Embedding Layer\n",
    "- LSTM layer\n",
    "- 3 fully connected layer\n",
    "- Dropout layer"
   ]
  },
  {
   "cell_type": "code",
   "execution_count": 27,
   "metadata": {},
   "outputs": [],
   "source": [
    "# Define the classification model\n",
    "class SentimentClassifier(nn.Module):\n",
    "    def __init__(self, input_dim, embedding_dim, hidden_dim, output_dim):\n",
    "        super(SentimentClassifier, self).__init__()\n",
    "        self.hidden_dim = hidden_dim\n",
    "        self.embedding = nn.Embedding(input_dim, embedding_dim)\n",
    "        self.rnn = nn.LSTM(input_size= embedding_dim,\n",
    "                                hidden_size=hidden_dim)        \n",
    "        \n",
    "        self.fc1 = nn.Linear(hidden_dim, 128)\n",
    "        self.dropout = nn.Dropout(0.5)\n",
    "        self.fc3 = nn.Linear(128, 32)\n",
    "        self.fc4 = nn.Linear(32,output_dim)\n",
    "        # self.sm = nn.LogSoftmax(dim=1)\n",
    "\n",
    "    def forward(self, text, length):\n",
    "        \"\"\"text dim: padded sequence object with max length = length\"\"\"\n",
    "        \n",
    "        embedded = self.embedding(text)\n",
    "        \"\"\"embedded dimension: [length, batch size, embedding dim]\"\"\"\n",
    "        # Pack the sequences for efficient processing\n",
    "        packed_data = pack_padded_sequence(embedded, length.sum(1), batch_first=True, enforce_sorted=False)\n",
    "        output, (hidden, cell) = self.rnn(packed_data)\n",
    "        \"\"\"# output dim: [length, batch size, hidden dim]\"\"\"\n",
    "        \"\"\"# hidden dimension: [1, batch size, hidden dim]\"\"\"\n",
    "        # unpacked_output, unpacked_length = pad_packed_sequence(output,batch_first=True)\n",
    "        # unpacked_output.squeeze_(1)\n",
    "        o = self.fc1(hidden.squeeze(0)) \n",
    "        \"\"\"hidden dim: [batch size, hidden dim]\"\"\"\n",
    "        o = self.dropout(o)\n",
    "        o = self.fc3(o)\n",
    "        o = self.dropout(o)\n",
    "        o = self.fc4(o)\n",
    "        # o = self.sm(o)\n",
    "        return o"
   ]
  },
  {
   "cell_type": "markdown",
   "metadata": {},
   "source": [
    "Dataset class (for pytorch)"
   ]
  },
  {
   "cell_type": "code",
   "execution_count": 28,
   "metadata": {},
   "outputs": [],
   "source": [
    "class CustomDataset(Dataset):\n",
    "    def __init__(self, data, labels):\n",
    "        self.data = data\n",
    "        self.labels = labels\n",
    "\n",
    "    def __len__(self):\n",
    "        return len(self.data)\n",
    "    \n",
    "    def __getitem__(self, idx):\n",
    "        \"\"\"This function is called everytime we iterate through the dataloader\"\"\"\n",
    "        # sample = {'data': self.data[idx], 'label': self.labels[idx]}\n",
    "        return self.data.iloc[idx], self.labels[idx]\n",
    "\n"
   ]
  },
  {
   "cell_type": "code",
   "execution_count": 29,
   "metadata": {},
   "outputs": [
    {
     "name": "stdout",
     "output_type": "stream",
     "text": [
      "[1 1 0 ... 1 1 1]\n"
     ]
    }
   ],
   "source": [
    "y_train = trainy.values\n",
    "y_test = testy.values\n",
    "\n",
    "print(y_train)"
   ]
  },
  {
   "cell_type": "markdown",
   "metadata": {},
   "source": [
    "Function to transform dataset into vectors given the vocabulary"
   ]
  },
  {
   "cell_type": "code",
   "execution_count": 30,
   "metadata": {},
   "outputs": [],
   "source": [
    "def getTransform(vocab):\n",
    "    \"\"\"\n",
    "    Create transforms based on given vocabulary. The returned transform is applied to sequence\n",
    "    of tokens.\n",
    "    \"\"\"\n",
    "    text_tranform = T.Sequential(\n",
    "        ## converts the sentences to indices based on given vocabulary\n",
    "        T.VocabTransform(vocab=vocab),\n",
    "        ## Add <sos> at beginning of each sentence. 1 because the index for <sos> in vocabulary is\n",
    "        # 1 as seen in previous section\n",
    "        T.AddToken(1, begin=True),\n",
    "        ## Add <eos> at beginning of each sentence. 2 because the index for <eos> in vocabulary is\n",
    "        # 2 as seen in previous section\n",
    "        T.AddToken(2, begin=False)\n",
    "    )\n",
    "    return text_tranform\n",
    "def applyTransform(text):\n",
    "    \"\"\"\n",
    "    Apply transforms to sequence of tokens in a sequence pair\n",
    "    \"\"\"\n",
    "\n",
    "    return getTransform(vocab_train)(engTokenize(text))"
   ]
  },
  {
   "cell_type": "code",
   "execution_count": 14,
   "metadata": {},
   "outputs": [],
   "source": [
    "x_train = trainx.apply(applyTransform)\n",
    "x_test = testx.apply(applyTransform)"
   ]
  },
  {
   "cell_type": "code",
   "execution_count": 31,
   "metadata": {},
   "outputs": [
    {
     "name": "stdout",
     "output_type": "stream",
     "text": [
      "Load x_train vectors\n",
      "Load x_test vectors\n"
     ]
    }
   ],
   "source": [
    "if os.path.exists('x_train.pkl'):\n",
    "    print('Load x_train vectors')\n",
    "    # Load vocab_test from the pickle file\n",
    "    with open('x_train.pkl', 'rb') as x_train_file:\n",
    "        x_train = pickle.load(x_train_file)\n",
    "# else:\n",
    "#     print('Save x_train vectors')\n",
    "#     # Save the trained vocab_test\n",
    "#     with open('x_train.pkl', 'wb') as x_train_file:\n",
    "#         pickle.dump(x_train, x_train_file)\n",
    "\n",
    "if os.path.exists('x_test.pkl'):\n",
    "    print('Load x_test vectors')\n",
    "    # Load vocab_test from the pickle file\n",
    "    with open('x_test.pkl', 'rb') as x_test_file:\n",
    "        x_test = pickle.load(x_test_file)\n",
    "# else:\n",
    "#     print('Save x_test vectors')\n",
    "#     # Save the trained vocab_test\n",
    "#     with open('x_test.pkl', 'wb') as x_test_file:\n",
    "#         pickle.dump(x_test, x_test_file)"
   ]
  },
  {
   "cell_type": "markdown",
   "metadata": {},
   "source": [
    "Data with different length vectors cannot be passed into an LSTM layer directly. To enable processing of variable-length sequences, padding is applied to ensure all vectors within a batch have the same length. For instance:\n",
    "\n",
    "Original data:\n",
    "```\n",
    "data = [\n",
    "    torch.tensor([16]),\n",
    "    torch.tensor([204, 185, 65, 345]), \n",
    "    torch.tensor([204, 987]),\n",
    "    torch.tensor([85, 4, 23])\n",
    "]\n",
    "```\n",
    "\n",
    "Padded batch:\n",
    "```\n",
    "tensor([\n",
    "    [ 16,   0,   0,   0], \n",
    "    [204, 185,  65, 345], \n",
    "    [204, 987,   0,   0], \n",
    "    [ 85,   4,  23,   0]\n",
    "])\n",
    "```\n",
    "\n",
    "In this example, the vectors have been padded with zeros to match the length of the longest sequence within the batch, enabling their use in sequence-based models like LSTMs."
   ]
  },
  {
   "cell_type": "code",
   "execution_count": 32,
   "metadata": {},
   "outputs": [],
   "source": [
    "def custom_collate_fn(batch):\n",
    "    data, labels = zip(*batch)\n",
    "\n",
    "    # Sort sequences by length (from longest to shortest)\n",
    "    sorted_data, sorted_labels = zip(*sorted(zip(data, labels), key=lambda x: len(x[0]), reverse=True))\n",
    "\n",
    "    # Pad sequences to the length of the longest sequence\n",
    "    padded_data = pad_sequence([torch.tensor(seq) for seq in sorted_data], batch_first=True)\n",
    "    padded_labels = torch.tensor(sorted_labels, dtype=torch.float64)\n",
    "\n",
    "    # Create a mask for the padded elements\n",
    "    mask = (padded_data != 0).float()\n",
    "\n",
    "    return padded_data.to(device), mask, padded_labels.to(device)"
   ]
  },
  {
   "cell_type": "markdown",
   "metadata": {},
   "source": [
    "Intialize dataset and dataloader"
   ]
  },
  {
   "cell_type": "code",
   "execution_count": 56,
   "metadata": {},
   "outputs": [],
   "source": [
    "torch.manual_seed(12)\n",
    "trainset = CustomDataset(x_train, y_train)\n",
    "testset = CustomDataset(x_test, y_test)\n",
    "\n",
    "# trainset = CustomDataset(vocab_train, y_train_onehot)\n",
    "# testset = CustomDataset(vocab_test, y_test)\n",
    "\n",
    "# Create a DataLoader for your dataset\n",
    "train_loader = DataLoader(trainset, batch_size=batch_size, shuffle=True, collate_fn=custom_collate_fn)\n",
    "test_loader = DataLoader(testset, batch_size=batch_size, shuffle=True, collate_fn=custom_collate_fn)\n"
   ]
  },
  {
   "cell_type": "markdown",
   "metadata": {},
   "source": [
    "Model, Loss function and optimizer initilaization"
   ]
  },
  {
   "cell_type": "code",
   "execution_count": 34,
   "metadata": {},
   "outputs": [],
   "source": [
    "# Instantiate the classifier\n",
    "model = SentimentClassifier(input_dim, embedding_dim, hidden_dim, output_dim).to(device)\n",
    "# Define the loss function (cross-entropy) and the optimizer (Adam)\n",
    "criterion = nn.BCEWithLogitsLoss()\n",
    "optimizer = optim.Adam(model.parameters(), lr=learning_rate)"
   ]
  },
  {
   "cell_type": "code",
   "execution_count": null,
   "metadata": {},
   "outputs": [],
   "source": [
    "for x,y,z in test_loader:\n",
    "    print(x)\n",
    "    print('AAAAAAAAAAAAAAAAAAAAAAAAAAAAAAAAAAAAAAAAAAA')\n",
    "    print(y)\n",
    "    print('AAAAAAAAAAAAAAAAAAAAAAAAAAAAAAAAAAAAAAAAAAA')\n",
    "    print(z.unsqueeze(1))\n",
    "    print('AAAAAAAAAAAAAAAAAAAAAAAAAAAAAAAAAAAAAAAAAAA')\n",
    "    # seq_unpacked, lens_unpacked = pad_packed_sequence(x, batch_first=True)\n",
    "    # print(seq_unpacked)\n",
    "    break"
   ]
  },
  {
   "cell_type": "markdown",
   "metadata": {},
   "source": [
    "Try predicting without training"
   ]
  },
  {
   "cell_type": "code",
   "execution_count": 55,
   "metadata": {},
   "outputs": [
    {
     "name": "stdout",
     "output_type": "stream",
     "text": [
      "60.15625%\n"
     ]
    }
   ],
   "source": [
    "torch.manual_seed(76)\n",
    "total_acc, total_count = 0,0\n",
    "for x,y,z in test_loader:\n",
    "    z = z.unsqueeze(1)\n",
    "    predictions = model(x,y)\n",
    "    # print(predictions)\n",
    "    # print(z)\n",
    "    # loss = criterion(predictions,z)\n",
    "    # loss.backward()\n",
    "    # print(loss.item())\n",
    "    \n",
    "    result = (predictions>0).float()\n",
    "    result = result[torch.all(result==z, dim=1)]\n",
    "    # print(result)\n",
    "    total_acc += len(result)\n",
    "    total_count += len(z)\n",
    "    print(f\"{total_acc/total_count*100}%\")\n",
    "    break"
   ]
  },
  {
   "cell_type": "markdown",
   "metadata": {},
   "source": [
    "Training loop and Testing loop"
   ]
  },
  {
   "cell_type": "code",
   "execution_count": 38,
   "metadata": {},
   "outputs": [],
   "source": [
    "def trainloop(trainloader):\n",
    "    epoch_train_loss = 0.0\n",
    "    model.train()\n",
    "    with tqdm(trainloader, unit=\"batch\", desc='Training: ') as tbatch:\n",
    "        for data, mask, labels in tbatch:\n",
    "            labels = labels.unsqueeze(1)\n",
    "            optimizer.zero_grad()\n",
    "            output = model(data, mask)\n",
    "            loss = criterion(output, labels)\n",
    "            loss.backward()\n",
    "            optimizer.step()\n",
    "            epoch_train_loss += loss\n",
    "            tbatch.set_postfix(loss=\"{:.6f}\".format(loss))\n",
    "    return epoch_train_loss/len(trainloader)\n",
    "\n",
    "def evaluateloop(testloader):\n",
    "    model.eval()\n",
    "    total_acc, total_count = 0, 0\n",
    "    with tqdm(testloader, unit=\"batch\", desc='Evaluating: ') as ttest:\n",
    "        with torch.no_grad():\n",
    "            for data, mask, labels in ttest:\n",
    "                labels = labels.unsqueeze(1)\n",
    "                predictions = model(data, mask)\n",
    "                result = (predictions>0).float()\n",
    "                result = result[torch.all(result==labels, dim=1)]\n",
    "                total_acc += len(result)\n",
    "                total_count += len(labels)\n",
    "                ttest.set_postfix({'accuracy': total_acc / total_count})\n",
    "    accuracy = total_acc / total_count\n",
    "    return accuracy"
   ]
  },
  {
   "cell_type": "markdown",
   "metadata": {},
   "source": [
    "Function to save model in case of interuption and resume training from file"
   ]
  },
  {
   "cell_type": "code",
   "execution_count": 37,
   "metadata": {},
   "outputs": [],
   "source": [
    "def checkpoint(model, optimizer, loss, epoch, filename):\n",
    "    torch.save({\n",
    "            'epoch': epoch,\n",
    "            'model_state_dict': model.state_dict(),\n",
    "            'optimizer_state_dict': optimizer.state_dict(),\n",
    "            'loss': loss,\n",
    "        }, filename)\n",
    "def resume(filename):\n",
    "    checkpoint = torch.load(filename)\n",
    "    model.load_state_dict(checkpoint['model_state_dict'])\n",
    "    optimizer.load_state_dict(checkpoint['optimizer_state_dict'])\n",
    "    epoch = checkpoint['epoch']\n",
    "    loss = checkpoint['loss']\n",
    "    return loss"
   ]
  },
  {
   "cell_type": "code",
   "execution_count": 47,
   "metadata": {},
   "outputs": [
    {
     "name": "stderr",
     "output_type": "stream",
     "text": [
      "Training:   0%|          | 0/2063 [00:00<?, ?batch/s]"
     ]
    },
    {
     "name": "stderr",
     "output_type": "stream",
     "text": [
      "Training: 100%|██████████| 2063/2063 [05:12<00:00,  6.61batch/s, loss=0.415084]\n",
      "Evaluating: 100%|██████████| 617/617 [00:40<00:00, 15.06batch/s, accuracy=0.856]\n"
     ]
    },
    {
     "name": "stdout",
     "output_type": "stream",
     "text": [
      "Epoch [1/100] | Test Accuracy: 85.62% | Current Loss:  0.332058\n",
      "\n"
     ]
    },
    {
     "name": "stderr",
     "output_type": "stream",
     "text": [
      "Training: 100%|██████████| 2063/2063 [04:55<00:00,  6.99batch/s, loss=0.326261]\n",
      "Evaluating: 100%|██████████| 617/617 [00:37<00:00, 16.54batch/s, accuracy=0.877]\n"
     ]
    },
    {
     "name": "stdout",
     "output_type": "stream",
     "text": [
      "Epoch [2/100] | Test Accuracy: 87.66% | Current Loss:  0.268223\n",
      "\n"
     ]
    },
    {
     "name": "stderr",
     "output_type": "stream",
     "text": [
      "Training: 100%|██████████| 2063/2063 [05:17<00:00,  6.51batch/s, loss=0.295576]\n",
      "Evaluating: 100%|██████████| 617/617 [00:35<00:00, 17.58batch/s, accuracy=0.896]\n"
     ]
    },
    {
     "name": "stdout",
     "output_type": "stream",
     "text": [
      "Epoch [3/100] | Test Accuracy: 89.60% | Current Loss:  0.200116\n",
      "\n"
     ]
    },
    {
     "name": "stderr",
     "output_type": "stream",
     "text": [
      "Training: 100%|██████████| 2063/2063 [04:42<00:00,  7.30batch/s, loss=0.134480]\n",
      "Evaluating: 100%|██████████| 617/617 [00:35<00:00, 17.22batch/s, accuracy=0.908]\n"
     ]
    },
    {
     "name": "stdout",
     "output_type": "stream",
     "text": [
      "Epoch [4/100] | Test Accuracy: 90.77% | Current Loss:  0.137502\n",
      "\n"
     ]
    },
    {
     "name": "stderr",
     "output_type": "stream",
     "text": [
      "Training: 100%|██████████| 2063/2063 [04:37<00:00,  7.44batch/s, loss=0.014090]\n",
      "Evaluating: 100%|██████████| 617/617 [00:35<00:00, 17.28batch/s, accuracy=0.907]\n"
     ]
    },
    {
     "name": "stdout",
     "output_type": "stream",
     "text": [
      "Epoch [5/100] | Test Accuracy: 90.72% | Current Loss:  0.093940\n",
      "\n"
     ]
    },
    {
     "name": "stderr",
     "output_type": "stream",
     "text": [
      "Training: 100%|██████████| 2063/2063 [04:36<00:00,  7.47batch/s, loss=0.066973]\n",
      "Evaluating: 100%|██████████| 617/617 [00:35<00:00, 17.31batch/s, accuracy=0.91] \n"
     ]
    },
    {
     "name": "stdout",
     "output_type": "stream",
     "text": [
      "Epoch [6/100] | Test Accuracy: 90.98% | Current Loss:  0.075351\n",
      "\n"
     ]
    },
    {
     "name": "stderr",
     "output_type": "stream",
     "text": [
      "Training: 100%|██████████| 2063/2063 [04:36<00:00,  7.47batch/s, loss=0.099950]\n",
      "Evaluating: 100%|██████████| 617/617 [00:35<00:00, 17.25batch/s, accuracy=0.91] \n"
     ]
    },
    {
     "name": "stdout",
     "output_type": "stream",
     "text": [
      "Epoch [7/100] | Test Accuracy: 91.05% | Current Loss:  0.061622\n",
      "\n"
     ]
    },
    {
     "name": "stderr",
     "output_type": "stream",
     "text": [
      "Training: 100%|██████████| 2063/2063 [04:38<00:00,  7.41batch/s, loss=0.061300]\n",
      "Evaluating: 100%|██████████| 617/617 [00:36<00:00, 17.00batch/s, accuracy=0.912]\n"
     ]
    },
    {
     "name": "stdout",
     "output_type": "stream",
     "text": [
      "Epoch [8/100] | Test Accuracy: 91.21% | Current Loss:  0.057610\n",
      "\n"
     ]
    },
    {
     "name": "stderr",
     "output_type": "stream",
     "text": [
      "Training: 100%|██████████| 2063/2063 [04:49<00:00,  7.12batch/s, loss=0.009183]\n",
      "Evaluating: 100%|██████████| 617/617 [00:36<00:00, 17.04batch/s, accuracy=0.914]\n"
     ]
    },
    {
     "name": "stdout",
     "output_type": "stream",
     "text": [
      "Epoch [9/100] | Test Accuracy: 91.36% | Current Loss:  0.050050\n",
      "\n"
     ]
    },
    {
     "name": "stderr",
     "output_type": "stream",
     "text": [
      "Training: 100%|██████████| 2063/2063 [04:39<00:00,  7.37batch/s, loss=0.011577]\n",
      "Evaluating: 100%|██████████| 617/617 [00:37<00:00, 16.47batch/s, accuracy=0.914]\n"
     ]
    },
    {
     "name": "stdout",
     "output_type": "stream",
     "text": [
      "Epoch [10/100] | Test Accuracy: 91.42% | Current Loss:  0.050314\n",
      "\n"
     ]
    },
    {
     "name": "stderr",
     "output_type": "stream",
     "text": [
      "Training: 100%|██████████| 2063/2063 [04:50<00:00,  7.11batch/s, loss=0.026752]\n",
      "Evaluating: 100%|██████████| 617/617 [00:36<00:00, 17.10batch/s, accuracy=0.916]\n"
     ]
    },
    {
     "name": "stdout",
     "output_type": "stream",
     "text": [
      "Epoch [11/100] | Test Accuracy: 91.58% | Current Loss:  0.045930\n",
      "\n"
     ]
    },
    {
     "name": "stderr",
     "output_type": "stream",
     "text": [
      "Training: 100%|██████████| 2063/2063 [05:05<00:00,  6.76batch/s, loss=0.139421]\n",
      "Evaluating: 100%|██████████| 617/617 [00:39<00:00, 15.66batch/s, accuracy=0.912]\n"
     ]
    },
    {
     "name": "stdout",
     "output_type": "stream",
     "text": [
      "Epoch [12/100] | Test Accuracy: 91.21% | Current Loss:  0.043936\n",
      "\n"
     ]
    },
    {
     "name": "stderr",
     "output_type": "stream",
     "text": [
      "Training: 100%|██████████| 2063/2063 [04:47<00:00,  7.17batch/s, loss=0.002615]\n",
      "Evaluating: 100%|██████████| 617/617 [00:37<00:00, 16.37batch/s, accuracy=0.913]\n"
     ]
    },
    {
     "name": "stdout",
     "output_type": "stream",
     "text": [
      "Epoch [13/100] | Test Accuracy: 91.33% | Current Loss:  0.046479\n",
      "\n"
     ]
    },
    {
     "name": "stderr",
     "output_type": "stream",
     "text": [
      "Training: 100%|██████████| 2063/2063 [04:53<00:00,  7.04batch/s, loss=0.114410]\n",
      "Evaluating: 100%|██████████| 617/617 [00:38<00:00, 16.09batch/s, accuracy=0.912]\n"
     ]
    },
    {
     "name": "stdout",
     "output_type": "stream",
     "text": [
      "Epoch [14/100] | Test Accuracy: 91.22% | Current Loss:  0.043265\n",
      "\n"
     ]
    },
    {
     "name": "stderr",
     "output_type": "stream",
     "text": [
      "Training: 100%|██████████| 2063/2063 [05:38<00:00,  6.09batch/s, loss=0.010541]\n",
      "Evaluating: 100%|██████████| 617/617 [00:40<00:00, 15.33batch/s, accuracy=0.915]\n"
     ]
    },
    {
     "name": "stdout",
     "output_type": "stream",
     "text": [
      "Epoch [15/100] | Test Accuracy: 91.46% | Current Loss:  0.041918\n",
      "\n"
     ]
    },
    {
     "name": "stderr",
     "output_type": "stream",
     "text": [
      "Training: 100%|██████████| 2063/2063 [04:57<00:00,  6.93batch/s, loss=0.040978]\n",
      "Evaluating: 100%|██████████| 617/617 [00:38<00:00, 15.85batch/s, accuracy=0.913]\n"
     ]
    },
    {
     "name": "stdout",
     "output_type": "stream",
     "text": [
      "Epoch [16/100] | Test Accuracy: 91.29% | Current Loss:  0.039851\n",
      "\n"
     ]
    },
    {
     "name": "stderr",
     "output_type": "stream",
     "text": [
      "Training: 100%|██████████| 2063/2063 [05:33<00:00,  6.18batch/s, loss=0.032231]\n",
      "Evaluating: 100%|██████████| 617/617 [00:46<00:00, 13.35batch/s, accuracy=0.916]\n"
     ]
    },
    {
     "name": "stdout",
     "output_type": "stream",
     "text": [
      "Epoch [17/100] | Test Accuracy: 91.59% | Current Loss:  0.040254\n",
      "\n"
     ]
    },
    {
     "name": "stderr",
     "output_type": "stream",
     "text": [
      "Training:  61%|██████    | 1254/2063 [03:16<02:07,  6.37batch/s, loss=0.045123]\n"
     ]
    },
    {
     "name": "stdout",
     "output_type": "stream",
     "text": [
      "Training interrupted. Saving current model checkpoint.\n",
      "Total training time: 5884.01 seconds\n"
     ]
    }
   ],
   "source": [
    "start_time = time.time()\n",
    "torch.manual_seed(0)\n",
    "last_lost = 0.0 #the lost of the last epoch\n",
    "patience = 3 \n",
    "trigger_times = 0 #counter for early stop\n",
    "stop = False\n",
    "start_epoch=0\n",
    "curr_epoch = 0\n",
    "delta = 0.0002\n",
    "counter = 0\n",
    "try:\n",
    "    with open('loss_values.pkl', 'rb') as f_loss, open('accuracy_values.pkl', 'rb') as f_accuracy:\n",
    "        loss_array = pickle.load(f_loss)\n",
    "        accuracy_array = pickle.load(f_accuracy)\n",
    "except FileNotFoundError:\n",
    "    # If files don't exist, initialize empty arrays\n",
    "    loss_array = [] #used for graphing loss changes throughout training\n",
    "    accuracy_array = [] \n",
    "\n",
    "\n",
    "if start_epoch>0:\n",
    "    print(\"Found existing checkpoint, continue training\")\n",
    "    last_lost = resume(f'Model_at_epoch_{start_epoch}.pth')\n",
    "\n",
    "try:\n",
    "    for epoch in range(start_epoch, epochs):\n",
    "        curr_epoch = epoch\n",
    "        #Train\n",
    "        train_loss = trainloop(train_loader)\n",
    "\n",
    "        #Test\n",
    "        accuracy = evaluateloop(test_loader)\n",
    "        accuracy_array+=[accuracy]\n",
    "        loss_array+=[train_loss]\n",
    "\n",
    "        if counter%5==0:\n",
    "            checkpoint(model, optimizer, loss_array[-1], curr_epoch, f'Model_at_epoch_{curr_epoch}.pth')\n",
    "            with open('loss_values.pkl', 'wb') as f_loss, open('accuracy_values.pkl', 'wb') as f_accuracy:\n",
    "                pickle.dump(loss_array, f_loss)\n",
    "                pickle.dump(accuracy_array, f_accuracy)\n",
    "\n",
    "        counter+=1\n",
    "        # Print statistics at the end of each epoch\n",
    "        print(f'Epoch [{epoch+1}/{epochs}] | Test Accuracy: {accuracy:.2%} | Current Loss: {train_loss: .6f}\\n')\n",
    "        #Early stopping check\n",
    "        if abs(train_loss - last_lost)<=delta:\n",
    "            trigger_times+=1\n",
    "        elif abs(train_loss - last_lost)>delta:\n",
    "            trigger_times=0\n",
    "        if trigger_times>patience:\n",
    "            stop = True\n",
    "        last_lost=train_loss\n",
    "        if stop == True:\n",
    "            break\n",
    "except KeyboardInterrupt:\n",
    "    print(\"Training interrupted. Saving current model checkpoint.\")\n",
    "    checkpoint(model, optimizer, loss_array[-1], curr_epoch, f'Model_at_epoch_{curr_epoch}.pth')\n",
    "    with open('loss_values.pkl', 'wb') as f_loss, open('accuracy_values.pkl', 'wb') as f_accuracy:\n",
    "        pickle.dump(loss_array, f_loss)\n",
    "        pickle.dump(accuracy_array, f_accuracy)\n",
    "\n",
    "# Print total training time\n",
    "print(\"Total training time: {:.2f} seconds\".format(time.time() - start_time))\n",
    "#Save model\n",
    "checkpoint(model, optimizer, loss_array[-1], curr_epoch, f'Model_at_epoch_{curr_epoch}.pth')\n",
    "with open('loss_values.pkl', 'wb') as f_loss, open('accuracy_values.pkl', 'wb') as f_accuracy:\n",
    "    pickle.dump(loss_array, f_loss)\n",
    "    pickle.dump(accuracy_array, f_accuracy)\n"
   ]
  },
  {
   "cell_type": "markdown",
   "metadata": {},
   "source": [
    "Create some sentences for testing"
   ]
  },
  {
   "cell_type": "code",
   "execution_count": 35,
   "metadata": {},
   "outputs": [],
   "source": [
    "test_sentence = 'i love this game'\n",
    "test_sentence2 = 'trash game'\n",
    "test_sentence3 = 'greate game i like it'\n",
    "test_sentence4 = 'i regret buying it'\n",
    "data = [test_sentence, test_sentence2, test_sentence3, test_sentence4]\n",
    "result = [1,0,1,0]\n",
    "column_names = ['text', 'positive']\n",
    "df = pd.DataFrame(list(zip(data, result)), columns=column_names)\n",
    "\n",
    "text = df['text']\n",
    "label = df['positive']\n",
    "evaluate = CustomDataset(text.apply(applyTransform),label.values)\n",
    "evaloader = DataLoader(evaluate,batch_size=1, collate_fn=custom_collate_fn)"
   ]
  },
  {
   "cell_type": "code",
   "execution_count": 40,
   "metadata": {},
   "outputs": [
    {
     "name": "stdout",
     "output_type": "stream",
     "text": [
      "0.030076907514478345\n",
      "Prediction result: i love this game - Correct\n",
      "Prediction result: trash game - Correct\n",
      "Prediction result: greate game i like it - Correct\n",
      "Prediction result: i regret buying it - Incorrect\n"
     ]
    }
   ],
   "source": [
    "print(resume(\"model_colab\\Model_at_epoch_33.pth\"))\n",
    "\n",
    "for batch, text in zip(evaloader,data):\n",
    "    x,y,z= batch\n",
    "    predictions = model(x,y)\n",
    "#     print(predictions)\n",
    "    result = (predictions>0).float()\n",
    "    result = (result==z)\n",
    "    if result == True:\n",
    "        print(f'Prediction result: {text} - Correct')\n",
    "    else:\n",
    "        print(f'Prediction result: {text} - Incorrect')"
   ]
  },
  {
   "cell_type": "markdown",
   "metadata": {},
   "source": [
    "Loss and Accuracy graph"
   ]
  },
  {
   "cell_type": "code",
   "execution_count": 19,
   "metadata": {},
   "outputs": [
    {
     "data": {
      "image/png": "[encoded data removed]",
      "text/plain": [
       "<Figure size 1200x500 with 2 Axes>"
      ]
     },
     "metadata": {},
     "output_type": "display_data"
    }
   ],
   "source": [
    "with open('model_colab/accuracy_values.pkl', 'rb') as acc:\n",
    "    acc_array = pickle.load(acc)\n",
    "with open('model_colab/loss_values.pkl', 'rb') as loss:\n",
    "    loss_arrray = pickle.load(loss)\n",
    "\n",
    "epoch = range(len(loss_arrray))\n",
    "\n",
    "for i, x in enumerate(loss_arrray):\n",
    "    if type(x) is float:\n",
    "        continue\n",
    "    else: loss_arrray[i] = x.item()\n",
    "fig, ax = plt.subplots(1,2, figsize=(12,5)) \n",
    "\n",
    "ax[0].plot(epoch, loss_arrray)\n",
    "ax[0].set_xlabel('Epoch')\n",
    "ax[0].set_ylabel('Loss')\n",
    "ax[0].set_title('Loss over 33 epochs')\n",
    "\n",
    "ax[1].plot(epoch, acc_array)\n",
    "ax[1].set_xlabel('Epoch')\n",
    "ax[1].set_ylabel('Accuracy')\n",
    "ax[1].set_title('Accuracy over 33 epochs')\n",
    "plt.tight_layout()\n",
    "plt.show()"
   ]
  },
  {
   "cell_type": "code",
   "execution_count": 61,
   "metadata": {},
   "outputs": [
    {
     "name": "stdout",
     "output_type": "stream",
     "text": [
      "78849\n",
      "78849\n"
     ]
    }
   ],
   "source": [
    "from sklearn.metrics import confusion_matrix\n",
    "model.eval()\n",
    "\n",
    "# Collect predictions and true labels\n",
    "prediction_list = []\n",
    "true_labels = []\n",
    "\n",
    "with torch.no_grad():\n",
    "    for x,y,z in test_loader:\n",
    "        z = z.unsqueeze(1)\n",
    "        predictions = model(x,y)\n",
    "        result = (predictions>0).float()\n",
    "        # print(result)\n",
    "        prediction_list.extend(result.squeeze(1).cpu().numpy())\n",
    "        true_labels.extend(z.squeeze(1).cpu().numpy())\n",
    "        # break\n",
    "print(len(prediction_list))\n",
    "print(len(true_labels))"
   ]
  },
  {
   "cell_type": "code",
   "execution_count": 74,
   "metadata": {},
   "outputs": [
    {
     "name": "stdout",
     "output_type": "stream",
     "text": [
      "Classification report: \n",
      "               precision    recall  f1-score   support\n",
      "\n",
      "         0.0       0.90      0.93      0.91     37945\n",
      "         1.0       0.93      0.91      0.92     40904\n",
      "\n",
      "    accuracy                           0.92     78849\n",
      "   macro avg       0.92      0.92      0.92     78849\n",
      "weighted avg       0.92      0.92      0.92     78849\n",
      "\n"
     ]
    },
    {
     "data": {
      "text/plain": [
       "<sklearn.metrics._plot.confusion_matrix.ConfusionMatrixDisplay at 0x1c342e9b550>"
      ]
     },
     "execution_count": 74,
     "metadata": {},
     "output_type": "execute_result"
    },
    {
     "data": {
      "image/png": "[encoded data removed]",
      "text/plain": [
       "<Figure size 640x480 with 2 Axes>"
      ]
     },
     "metadata": {},
     "output_type": "display_data"
    }
   ],
   "source": [
    "from sklearn.metrics import ConfusionMatrixDisplay, classification_report\n",
    "\n",
    "\n",
    "conf_matrix = confusion_matrix(true_labels, prediction_list)\n",
    "print(\"Classification report: \\n\", classification_report(true_labels, prediction_list))\n",
    "\n",
    "# Plot confusion matrix\n",
    "\n",
    "ConfusionMatrixDisplay(confusion_matrix=conf_matrix).plot()"
   ]
  }
 ],
 "metadata": {
  "kernelspec": {
   "display_name": "Python 3",
   "language": "python",
   "name": "python3"
  },
  "language_info": {
   "codemirror_mode": {
    "name": "ipython",
    "version": 3
   },
   "file_extension": ".py",
   "mimetype": "text/x-python",
   "name": "python",
   "nbconvert_exporter": "python",
   "pygments_lexer": "ipython3",
   "version": "3.8.10"
  }
 },
 "nbformat": 4,
 "nbformat_minor": 2
}
